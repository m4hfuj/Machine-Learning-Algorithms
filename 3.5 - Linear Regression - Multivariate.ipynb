{
 "cells": [
  {
   "cell_type": "code",
   "execution_count": 375,
   "id": "100ba25f-29e2-4467-8cf9-cb44e65c34c3",
   "metadata": {},
   "outputs": [],
   "source": [
    "import numpy as np\n",
    "import pandas as pd\n",
    "import matplotlib.pyplot as plt\n",
    "import seaborn as sns\n",
    "from sklearn.datasets import make_regression"
   ]
  },
  {
   "cell_type": "code",
   "execution_count": 376,
   "id": "ede0e6da-fb6e-4991-89e9-03f500f764d6",
   "metadata": {},
   "outputs": [],
   "source": [
    "X, y = make_regression(n_samples=100, n_features=2, random_state=42)\n",
    "X = X.T\n",
    "X = np.vstack([np.ones(X.shape[1]), X])"
   ]
  },
  {
   "cell_type": "markdown",
   "id": "d4e056a1-e97f-469e-8f56-b7db54da56b9",
   "metadata": {},
   "source": [
    "In multivariate linear regression, we aim to model the relationship between multiple independent variables and a dependent variable. The model is represented as:\n",
    "\n",
    "$$\n",
    "y = w_0 + w_1 \\cdot x_1 + w_2 \\cdot x_2 + \\ldots + w_n \\cdot x_n\n",
    "$$\n",
    "\n",
    "\n",
    "where:\n",
    "- $ ( y $ is the dependent variable,\n",
    "- $ ( x_1, x_2, \\ldots, x_n ) $ are the independent variables,\n",
    "- $ ( w_0, w_1, \\ldots, w_n ) $ are the parameters to be learned.\n",
    "\n",
    "We will implement this using gradient descent.\n",
    "\n",
    "## Gradient Descent\n",
    "\n",
    "Gradient descent is an optimization algorithm that minimizes a cost function by iteratively moving towards the minimum. The update rule for parameters in gradient descent is given by:\n",
    "\n",
    "$$ \\theta_j = \\theta_j - \\alpha \\frac{\\partial J(\\theta)}{\\partial \\theta_j} $$\n",
    "\n",
    "where:\n",
    "- $ \\theta_j $ is the $ j-th $ parameter,\n",
    "- $ \\alpha $ is the learning rate,\n",
    "- $ J(\\theta) $ is the cost function.\n",
    "\n",
    "Let's apply this to our multivariate linear regression problem.\n",
    "\n"
   ]
  },
  {
   "cell_type": "code",
   "execution_count": 377,
   "id": "8751fa09-6b8e-42e1-9670-307f337a707b",
   "metadata": {},
   "outputs": [],
   "source": [
    "n_epochs = 600\n",
    "\n",
    "m = len(y)\n",
    "alpha = 0.01\n",
    "weights = np.ones(X.shape[0])\n",
    "costs = []\n",
    "\n",
    "for epoch in range(n_epochs):\n",
    "    \n",
    "    y_hat = np.dot(weights, X)\n",
    "    \n",
    "    error = (y_hat - y)\n",
    "    cost = np.mean(error**2) / m\n",
    "    costs.append(cost)\n",
    "    \n",
    "    dw = (1/m) * np.dot(X, error)\n",
    "    \n",
    "    weights -= alpha * dw"
   ]
  },
  {
   "cell_type": "code",
   "execution_count": 378,
   "id": "b7a072ae-7e4e-40bd-9e40-18669ae3bea9",
   "metadata": {},
   "outputs": [
    {
     "name": "stdout",
     "output_type": "stream",
     "text": [
      "W0  : -0.3298633545307848\n",
      "W1  : 86.65170544013591\n",
      "W2  : 73.98817239543045\n",
      "Cost: 0.009246684059907294\n"
     ]
    }
   ],
   "source": [
    "print(\"W0  :\", weights[0])\n",
    "print(\"W1  :\", weights[1])\n",
    "print(\"W2  :\", weights[2])\n",
    "print(\"Cost:\", cost)"
   ]
  },
  {
   "cell_type": "code",
   "execution_count": 379,
   "id": "258307fd-affe-41f1-9549-57924395b242",
   "metadata": {},
   "outputs": [],
   "source": [
    "y_pred = np.dot(weights, X)"
   ]
  },
  {
   "cell_type": "code",
   "execution_count": 381,
   "id": "995be398-275a-4a6d-be67-075344834542",
   "metadata": {},
   "outputs": [
    {
     "data": {
      "image/png": "[encoded data removed]",
      "text/plain": [
       "<Figure size 640x480 with 1 Axes>"
      ]
     },
     "metadata": {},
     "output_type": "display_data"
    }
   ],
   "source": [
    "plt.plot(costs)\n",
    "plt.show()"
   ]
  },
  {
   "cell_type": "code",
   "execution_count": null,
   "id": "6d2f01a7-a8d7-4ca2-861b-36d075961bc4",
   "metadata": {},
   "outputs": [],
   "source": []
  }
 ],
 "metadata": {
  "kernelspec": {
   "display_name": "Python 3 (ipykernel)",
   "language": "python",
   "name": "python3"
  },
  "language_info": {
   "codemirror_mode": {
    "name": "ipython",
    "version": 3
   },
   "file_extension": ".py",
   "mimetype": "text/x-python",
   "name": "python",
   "nbconvert_exporter": "python",
   "pygments_lexer": "ipython3",
   "version": "3.10.12"
  }
 },
 "nbformat": 4,
 "nbformat_minor": 5
}
